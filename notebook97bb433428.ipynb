{
 "cells": [
  {
   "cell_type": "code",
   "execution_count": 1,
   "id": "85dddf02",
   "metadata": {
    "_cell_guid": "b1076dfc-b9ad-4769-8c92-a6c4dae69d19",
    "_uuid": "8f2839f25d086af736a60e9eeb907d3b93b6e0e5",
    "execution": {
     "iopub.execute_input": "2021-11-05T10:05:23.005156Z",
     "iopub.status.busy": "2021-11-05T10:05:23.003875Z",
     "iopub.status.idle": "2021-11-05T10:05:23.020583Z",
     "shell.execute_reply": "2021-11-05T10:05:23.021223Z",
     "shell.execute_reply.started": "2021-11-05T09:50:04.289006Z"
    },
    "papermill": {
     "duration": 0.047663,
     "end_time": "2021-11-05T10:05:23.021727",
     "exception": false,
     "start_time": "2021-11-05T10:05:22.974064",
     "status": "completed"
    },
    "tags": []
   },
   "outputs": [
    {
     "name": "stdout",
     "output_type": "stream",
     "text": [
      "/kaggle/input/fake-news/submit.csv\n",
      "/kaggle/input/fake-news/train.csv\n",
      "/kaggle/input/fake-news/test.csv\n"
     ]
    }
   ],
   "source": [
    "# This Python 3 environment comes with many helpful analytics libraries installed\n",
    "# It is defined by the kaggle/python Docker image: https://github.com/kaggle/docker-python\n",
    "# For example, here's several helpful packages to load\n",
    "\n",
    "import numpy as np # linear algebra\n",
    "import pandas as pd # data processing, CSV file I/O (e.g. pd.read_csv)\n",
    "\n",
    "# Input data files are available in the read-only \"../input/\" directory\n",
    "# For example, running this (by clicking run or pressing Shift+Enter) will list all files under the input directory\n",
    "\n",
    "import os\n",
    "for dirname, _, filenames in os.walk('/kaggle/input'):\n",
    "    for filename in filenames:\n",
    "        print(os.path.join(dirname, filename))\n",
    "\n",
    "# You can write up to 20GB to the current directory (/kaggle/working/) that gets preserved as output when you create a version using \"Save & Run All\" \n",
    "# You can also write temporary files to /kaggle/temp/, but they won't be saved outside of the current session"
   ]
  },
  {
   "cell_type": "code",
   "execution_count": 2,
   "id": "b45745c5",
   "metadata": {
    "execution": {
     "iopub.execute_input": "2021-11-05T10:05:23.077031Z",
     "iopub.status.busy": "2021-11-05T10:05:23.076362Z",
     "iopub.status.idle": "2021-11-05T10:05:26.089828Z",
     "shell.execute_reply": "2021-11-05T10:05:26.089211Z",
     "shell.execute_reply.started": "2021-11-05T09:50:04.300218Z"
    },
    "papermill": {
     "duration": 3.0371,
     "end_time": "2021-11-05T10:05:26.090023",
     "exception": false,
     "start_time": "2021-11-05T10:05:23.052923",
     "status": "completed"
    },
    "tags": []
   },
   "outputs": [],
   "source": [
    "import pandas as pd\n",
    "data=pd.read_csv(\"../input/fake-news/train.csv\")\n"
   ]
  },
  {
   "cell_type": "code",
   "execution_count": 3,
   "id": "8eb1a670",
   "metadata": {
    "execution": {
     "iopub.execute_input": "2021-11-05T10:05:26.140417Z",
     "iopub.status.busy": "2021-11-05T10:05:26.139516Z",
     "iopub.status.idle": "2021-11-05T10:05:26.152434Z",
     "shell.execute_reply": "2021-11-05T10:05:26.153218Z",
     "shell.execute_reply.started": "2021-11-05T09:50:07.022045Z"
    },
    "papermill": {
     "duration": 0.041329,
     "end_time": "2021-11-05T10:05:26.153498",
     "exception": false,
     "start_time": "2021-11-05T10:05:26.112169",
     "status": "completed"
    },
    "tags": []
   },
   "outputs": [
    {
     "name": "stdout",
     "output_type": "stream",
     "text": [
      "   id                                              title              author  \\\n",
      "0   0  House Dem Aide: We Didn’t Even See Comey’s Let...       Darrell Lucus   \n",
      "1   1  FLYNN: Hillary Clinton, Big Woman on Campus - ...     Daniel J. Flynn   \n",
      "2   2                  Why the Truth Might Get You Fired  Consortiumnews.com   \n",
      "3   3  15 Civilians Killed In Single US Airstrike Hav...     Jessica Purkiss   \n",
      "4   4  Iranian woman jailed for fictional unpublished...      Howard Portnoy   \n",
      "\n",
      "                                                text  label  \n",
      "0  House Dem Aide: We Didn’t Even See Comey’s Let...      1  \n",
      "1  Ever get the feeling your life circles the rou...      0  \n",
      "2  Why the Truth Might Get You Fired October 29, ...      1  \n",
      "3  Videos 15 Civilians Killed In Single US Airstr...      1  \n",
      "4  Print \\nAn Iranian woman has been sentenced to...      1  \n"
     ]
    }
   ],
   "source": [
    "print(data.head())"
   ]
  },
  {
   "cell_type": "code",
   "execution_count": 4,
   "id": "39c76aec",
   "metadata": {
    "execution": {
     "iopub.execute_input": "2021-11-05T10:05:26.208517Z",
     "iopub.status.busy": "2021-11-05T10:05:26.207426Z",
     "iopub.status.idle": "2021-11-05T10:05:26.213009Z",
     "shell.execute_reply": "2021-11-05T10:05:26.213607Z",
     "shell.execute_reply.started": "2021-11-05T09:50:07.038876Z"
    },
    "papermill": {
     "duration": 0.037193,
     "end_time": "2021-11-05T10:05:26.213832",
     "exception": false,
     "start_time": "2021-11-05T10:05:26.176639",
     "status": "completed"
    },
    "tags": []
   },
   "outputs": [],
   "source": [
    "X=data.iloc[:,:-1]\n",
    "y=data.iloc[:,-1]"
   ]
  },
  {
   "cell_type": "code",
   "execution_count": 5,
   "id": "74b7124c",
   "metadata": {
    "execution": {
     "iopub.execute_input": "2021-11-05T10:05:26.265165Z",
     "iopub.status.busy": "2021-11-05T10:05:26.264365Z",
     "iopub.status.idle": "2021-11-05T10:05:26.273594Z",
     "shell.execute_reply": "2021-11-05T10:05:26.274099Z",
     "shell.execute_reply.started": "2021-11-05T09:50:07.054024Z"
    },
    "papermill": {
     "duration": 0.039144,
     "end_time": "2021-11-05T10:05:26.274298",
     "exception": false,
     "start_time": "2021-11-05T10:05:26.235154",
     "status": "completed"
    },
    "tags": []
   },
   "outputs": [
    {
     "data": {
      "text/plain": [
       "(          id                                              title  \\\n",
       " 0          0  House Dem Aide: We Didn’t Even See Comey’s Let...   \n",
       " 1          1  FLYNN: Hillary Clinton, Big Woman on Campus - ...   \n",
       " 2          2                  Why the Truth Might Get You Fired   \n",
       " 3          3  15 Civilians Killed In Single US Airstrike Hav...   \n",
       " 4          4  Iranian woman jailed for fictional unpublished...   \n",
       " ...      ...                                                ...   \n",
       " 20795  20795  Rapper T.I.: Trump a ’Poster Child For White S...   \n",
       " 20796  20796  N.F.L. Playoffs: Schedule, Matchups and Odds -...   \n",
       " 20797  20797  Macy’s Is Said to Receive Takeover Approach by...   \n",
       " 20798  20798  NATO, Russia To Hold Parallel Exercises In Bal...   \n",
       " 20799  20799                          What Keeps the F-35 Alive   \n",
       " \n",
       "                                           author  \\\n",
       " 0                                  Darrell Lucus   \n",
       " 1                                Daniel J. Flynn   \n",
       " 2                             Consortiumnews.com   \n",
       " 3                                Jessica Purkiss   \n",
       " 4                                 Howard Portnoy   \n",
       " ...                                          ...   \n",
       " 20795                              Jerome Hudson   \n",
       " 20796                           Benjamin Hoffman   \n",
       " 20797  Michael J. de la Merced and Rachel Abrams   \n",
       " 20798                                Alex Ansary   \n",
       " 20799                              David Swanson   \n",
       " \n",
       "                                                     text  \n",
       " 0      House Dem Aide: We Didn’t Even See Comey’s Let...  \n",
       " 1      Ever get the feeling your life circles the rou...  \n",
       " 2      Why the Truth Might Get You Fired October 29, ...  \n",
       " 3      Videos 15 Civilians Killed In Single US Airstr...  \n",
       " 4      Print \\nAn Iranian woman has been sentenced to...  \n",
       " ...                                                  ...  \n",
       " 20795  Rapper T. I. unloaded on black celebrities who...  \n",
       " 20796  When the Green Bay Packers lost to the Washing...  \n",
       " 20797  The Macy’s of today grew from the union of sev...  \n",
       " 20798  NATO, Russia To Hold Parallel Exercises In Bal...  \n",
       " 20799    David Swanson is an author, activist, journa...  \n",
       " \n",
       " [20800 rows x 4 columns],\n",
       " 0        1\n",
       " 1        0\n",
       " 2        1\n",
       " 3        1\n",
       " 4        1\n",
       "         ..\n",
       " 20795    0\n",
       " 20796    0\n",
       " 20797    0\n",
       " 20798    1\n",
       " 20799    1\n",
       " Name: label, Length: 20800, dtype: int64)"
      ]
     },
     "execution_count": 5,
     "metadata": {},
     "output_type": "execute_result"
    }
   ],
   "source": [
    "X,y"
   ]
  },
  {
   "cell_type": "code",
   "execution_count": 6,
   "id": "ba140f67",
   "metadata": {
    "execution": {
     "iopub.execute_input": "2021-11-05T10:05:26.327016Z",
     "iopub.status.busy": "2021-11-05T10:05:26.326289Z",
     "iopub.status.idle": "2021-11-05T10:05:27.352678Z",
     "shell.execute_reply": "2021-11-05T10:05:27.352064Z",
     "shell.execute_reply.started": "2021-11-05T09:50:07.072363Z"
    },
    "papermill": {
     "duration": 1.055481,
     "end_time": "2021-11-05T10:05:27.352874",
     "exception": false,
     "start_time": "2021-11-05T10:05:26.297393",
     "status": "completed"
    },
    "tags": []
   },
   "outputs": [],
   "source": [
    "from sklearn.feature_extraction.text import CountVectorizer, TfidfVectorizer, HashingVectorizer"
   ]
  },
  {
   "cell_type": "code",
   "execution_count": 7,
   "id": "734c8f86",
   "metadata": {
    "execution": {
     "iopub.execute_input": "2021-11-05T10:05:27.403654Z",
     "iopub.status.busy": "2021-11-05T10:05:27.403025Z",
     "iopub.status.idle": "2021-11-05T10:05:27.434661Z",
     "shell.execute_reply": "2021-11-05T10:05:27.435278Z",
     "shell.execute_reply.started": "2021-11-05T09:50:07.088778Z"
    },
    "papermill": {
     "duration": 0.058234,
     "end_time": "2021-11-05T10:05:27.435496",
     "exception": false,
     "start_time": "2021-11-05T10:05:27.377262",
     "status": "completed"
    },
    "tags": []
   },
   "outputs": [
    {
     "name": "stdout",
     "output_type": "stream",
     "text": [
      "<class 'pandas.core.frame.DataFrame'>\n",
      "RangeIndex: 20800 entries, 0 to 20799\n",
      "Data columns (total 5 columns):\n",
      " #   Column  Non-Null Count  Dtype \n",
      "---  ------  --------------  ----- \n",
      " 0   id      20800 non-null  int64 \n",
      " 1   title   20242 non-null  object\n",
      " 2   author  18843 non-null  object\n",
      " 3   text    20761 non-null  object\n",
      " 4   label   20800 non-null  int64 \n",
      "dtypes: int64(2), object(3)\n",
      "memory usage: 812.6+ KB\n"
     ]
    }
   ],
   "source": [
    "data.info()"
   ]
  },
  {
   "cell_type": "code",
   "execution_count": 8,
   "id": "a3beb2cb",
   "metadata": {
    "execution": {
     "iopub.execute_input": "2021-11-05T10:05:27.483967Z",
     "iopub.status.busy": "2021-11-05T10:05:27.483318Z",
     "iopub.status.idle": "2021-11-05T10:05:27.505364Z",
     "shell.execute_reply": "2021-11-05T10:05:27.505895Z",
     "shell.execute_reply.started": "2021-11-05T09:50:07.133989Z"
    },
    "papermill": {
     "duration": 0.047749,
     "end_time": "2021-11-05T10:05:27.506096",
     "exception": false,
     "start_time": "2021-11-05T10:05:27.458347",
     "status": "completed"
    },
    "tags": []
   },
   "outputs": [],
   "source": [
    "data=data.dropna()\n",
    "#since null value rows are dropped indexes needs to be reset\n",
    "messages=data.copy()\n",
    "messages.reset_index(inplace=True)"
   ]
  },
  {
   "cell_type": "code",
   "execution_count": 9,
   "id": "6f2a1d7f",
   "metadata": {
    "execution": {
     "iopub.execute_input": "2021-11-05T10:05:27.555684Z",
     "iopub.status.busy": "2021-11-05T10:05:27.554949Z",
     "iopub.status.idle": "2021-11-05T10:05:27.568827Z",
     "shell.execute_reply": "2021-11-05T10:05:27.569399Z",
     "shell.execute_reply.started": "2021-11-05T09:50:07.156148Z"
    },
    "papermill": {
     "duration": 0.041131,
     "end_time": "2021-11-05T10:05:27.569599",
     "exception": false,
     "start_time": "2021-11-05T10:05:27.528468",
     "status": "completed"
    },
    "tags": []
   },
   "outputs": [
    {
     "data": {
      "text/html": [
       "<div>\n",
       "<style scoped>\n",
       "    .dataframe tbody tr th:only-of-type {\n",
       "        vertical-align: middle;\n",
       "    }\n",
       "\n",
       "    .dataframe tbody tr th {\n",
       "        vertical-align: top;\n",
       "    }\n",
       "\n",
       "    .dataframe thead th {\n",
       "        text-align: right;\n",
       "    }\n",
       "</style>\n",
       "<table border=\"1\" class=\"dataframe\">\n",
       "  <thead>\n",
       "    <tr style=\"text-align: right;\">\n",
       "      <th></th>\n",
       "      <th>index</th>\n",
       "      <th>id</th>\n",
       "      <th>title</th>\n",
       "      <th>author</th>\n",
       "      <th>text</th>\n",
       "      <th>label</th>\n",
       "    </tr>\n",
       "  </thead>\n",
       "  <tbody>\n",
       "    <tr>\n",
       "      <th>0</th>\n",
       "      <td>0</td>\n",
       "      <td>0</td>\n",
       "      <td>House Dem Aide: We Didn’t Even See Comey’s Let...</td>\n",
       "      <td>Darrell Lucus</td>\n",
       "      <td>House Dem Aide: We Didn’t Even See Comey’s Let...</td>\n",
       "      <td>1</td>\n",
       "    </tr>\n",
       "    <tr>\n",
       "      <th>1</th>\n",
       "      <td>1</td>\n",
       "      <td>1</td>\n",
       "      <td>FLYNN: Hillary Clinton, Big Woman on Campus - ...</td>\n",
       "      <td>Daniel J. Flynn</td>\n",
       "      <td>Ever get the feeling your life circles the rou...</td>\n",
       "      <td>0</td>\n",
       "    </tr>\n",
       "    <tr>\n",
       "      <th>2</th>\n",
       "      <td>2</td>\n",
       "      <td>2</td>\n",
       "      <td>Why the Truth Might Get You Fired</td>\n",
       "      <td>Consortiumnews.com</td>\n",
       "      <td>Why the Truth Might Get You Fired October 29, ...</td>\n",
       "      <td>1</td>\n",
       "    </tr>\n",
       "    <tr>\n",
       "      <th>3</th>\n",
       "      <td>3</td>\n",
       "      <td>3</td>\n",
       "      <td>15 Civilians Killed In Single US Airstrike Hav...</td>\n",
       "      <td>Jessica Purkiss</td>\n",
       "      <td>Videos 15 Civilians Killed In Single US Airstr...</td>\n",
       "      <td>1</td>\n",
       "    </tr>\n",
       "    <tr>\n",
       "      <th>4</th>\n",
       "      <td>4</td>\n",
       "      <td>4</td>\n",
       "      <td>Iranian woman jailed for fictional unpublished...</td>\n",
       "      <td>Howard Portnoy</td>\n",
       "      <td>Print \\nAn Iranian woman has been sentenced to...</td>\n",
       "      <td>1</td>\n",
       "    </tr>\n",
       "  </tbody>\n",
       "</table>\n",
       "</div>"
      ],
      "text/plain": [
       "   index  id                                              title  \\\n",
       "0      0   0  House Dem Aide: We Didn’t Even See Comey’s Let...   \n",
       "1      1   1  FLYNN: Hillary Clinton, Big Woman on Campus - ...   \n",
       "2      2   2                  Why the Truth Might Get You Fired   \n",
       "3      3   3  15 Civilians Killed In Single US Airstrike Hav...   \n",
       "4      4   4  Iranian woman jailed for fictional unpublished...   \n",
       "\n",
       "               author                                               text  \\\n",
       "0       Darrell Lucus  House Dem Aide: We Didn’t Even See Comey’s Let...   \n",
       "1     Daniel J. Flynn  Ever get the feeling your life circles the rou...   \n",
       "2  Consortiumnews.com  Why the Truth Might Get You Fired October 29, ...   \n",
       "3     Jessica Purkiss  Videos 15 Civilians Killed In Single US Airstr...   \n",
       "4      Howard Portnoy  Print \\nAn Iranian woman has been sentenced to...   \n",
       "\n",
       "   label  \n",
       "0      1  \n",
       "1      0  \n",
       "2      1  \n",
       "3      1  \n",
       "4      1  "
      ]
     },
     "execution_count": 9,
     "metadata": {},
     "output_type": "execute_result"
    }
   ],
   "source": [
    "messages.head()"
   ]
  },
  {
   "cell_type": "code",
   "execution_count": 10,
   "id": "62773d80",
   "metadata": {
    "execution": {
     "iopub.execute_input": "2021-11-05T10:05:27.625450Z",
     "iopub.status.busy": "2021-11-05T10:05:27.624821Z",
     "iopub.status.idle": "2021-11-05T10:06:01.140444Z",
     "shell.execute_reply": "2021-11-05T10:06:01.139816Z",
     "shell.execute_reply.started": "2021-11-05T09:50:07.173505Z"
    },
    "papermill": {
     "duration": 33.544575,
     "end_time": "2021-11-05T10:06:01.140629",
     "exception": false,
     "start_time": "2021-11-05T10:05:27.596054",
     "status": "completed"
    },
    "tags": []
   },
   "outputs": [],
   "source": [
    "#stemmatize news titles\n",
    "from nltk.corpus import stopwords\n",
    "from nltk.stem.porter import PorterStemmer\n",
    "import re\n",
    "ps = PorterStemmer()\n",
    "corpus = []\n",
    "for i in range(0, len(messages)):\n",
    "    review = re.sub('[^a-zA-Z]', ' ', messages['title'][i])\n",
    "    review = review.lower()\n",
    "    review = review.split()\n",
    "    \n",
    "    review = [ps.stem(word) for word in review if not word in stopwords.words('english')]\n",
    "    review = ' '.join(review)\n",
    "    corpus.append(review)"
   ]
  },
  {
   "cell_type": "code",
   "execution_count": 11,
   "id": "97070ad4",
   "metadata": {
    "execution": {
     "iopub.execute_input": "2021-11-05T10:06:01.194283Z",
     "iopub.status.busy": "2021-11-05T10:06:01.193019Z",
     "iopub.status.idle": "2021-11-05T10:06:01.199880Z",
     "shell.execute_reply": "2021-11-05T10:06:01.200431Z",
     "shell.execute_reply.started": "2021-11-05T09:50:39.091033Z"
    },
    "papermill": {
     "duration": 0.035425,
     "end_time": "2021-11-05T10:06:01.200623",
     "exception": false,
     "start_time": "2021-11-05T10:06:01.165198",
     "status": "completed"
    },
    "tags": []
   },
   "outputs": [
    {
     "data": {
      "text/plain": [
       "['hous dem aid even see comey letter jason chaffetz tweet',\n",
       " 'flynn hillari clinton big woman campu breitbart',\n",
       " 'truth might get fire',\n",
       " 'civilian kill singl us airstrik identifi',\n",
       " 'iranian woman jail fiction unpublish stori woman stone death adulteri',\n",
       " 'jacki mason hollywood would love trump bomb north korea lack tran bathroom exclus video breitbart',\n",
       " 'beno hamon win french socialist parti presidenti nomin new york time',\n",
       " 'back channel plan ukrain russia courtesi trump associ new york time',\n",
       " 'obama organ action partner soro link indivis disrupt trump agenda',\n",
       " 'bbc comedi sketch real housew isi caus outrag']"
      ]
     },
     "execution_count": 11,
     "metadata": {},
     "output_type": "execute_result"
    }
   ],
   "source": [
    "corpus[:10]"
   ]
  },
  {
   "cell_type": "code",
   "execution_count": 12,
   "id": "77ff7b38",
   "metadata": {
    "execution": {
     "iopub.execute_input": "2021-11-05T10:06:01.256238Z",
     "iopub.status.busy": "2021-11-05T10:06:01.255198Z",
     "iopub.status.idle": "2021-11-05T10:06:02.946221Z",
     "shell.execute_reply": "2021-11-05T10:06:02.945616Z",
     "shell.execute_reply.started": "2021-11-05T09:50:39.100084Z"
    },
    "papermill": {
     "duration": 1.722023,
     "end_time": "2021-11-05T10:06:02.946400",
     "exception": false,
     "start_time": "2021-11-05T10:06:01.224377",
     "status": "completed"
    },
    "tags": []
   },
   "outputs": [],
   "source": [
    "#vectorize all preprocessed titles in corpus\n",
    "## Applying Countvectorizer\n",
    "# Creating the Bag of Words model\n",
    "from sklearn.feature_extraction.text import CountVectorizer\n",
    "cv = CountVectorizer(max_features=5000,ngram_range=(1,3))\n",
    "X = cv.fit_transform(corpus).toarray()"
   ]
  },
  {
   "cell_type": "code",
   "execution_count": 13,
   "id": "fa0883b2",
   "metadata": {
    "execution": {
     "iopub.execute_input": "2021-11-05T10:06:02.999950Z",
     "iopub.status.busy": "2021-11-05T10:06:02.999084Z",
     "iopub.status.idle": "2021-11-05T10:06:03.002284Z",
     "shell.execute_reply": "2021-11-05T10:06:03.001628Z",
     "shell.execute_reply.started": "2021-11-05T09:50:40.585325Z"
    },
    "papermill": {
     "duration": 0.032273,
     "end_time": "2021-11-05T10:06:03.002452",
     "exception": false,
     "start_time": "2021-11-05T10:06:02.970179",
     "status": "completed"
    },
    "tags": []
   },
   "outputs": [],
   "source": [
    "y=messages.iloc[:,-1]"
   ]
  },
  {
   "cell_type": "code",
   "execution_count": 14,
   "id": "4d2b93e2",
   "metadata": {
    "execution": {
     "iopub.execute_input": "2021-11-05T10:06:03.059505Z",
     "iopub.status.busy": "2021-11-05T10:06:03.058811Z",
     "iopub.status.idle": "2021-11-05T10:06:03.665522Z",
     "shell.execute_reply": "2021-11-05T10:06:03.664897Z",
     "shell.execute_reply.started": "2021-11-05T09:50:40.594652Z"
    },
    "papermill": {
     "duration": 0.639431,
     "end_time": "2021-11-05T10:06:03.665695",
     "exception": false,
     "start_time": "2021-11-05T10:06:03.026264",
     "status": "completed"
    },
    "tags": []
   },
   "outputs": [],
   "source": [
    "## Divide the dataset into Train and Test\n",
    "from sklearn.model_selection import train_test_split\n",
    "X_train, X_test, y_train, y_test = train_test_split(X, y, test_size=0.33, random_state=0)"
   ]
  },
  {
   "cell_type": "code",
   "execution_count": 15,
   "id": "52ef3c61",
   "metadata": {
    "execution": {
     "iopub.execute_input": "2021-11-05T10:06:03.722211Z",
     "iopub.status.busy": "2021-11-05T10:06:03.719712Z",
     "iopub.status.idle": "2021-11-05T10:06:03.726586Z",
     "shell.execute_reply": "2021-11-05T10:06:03.725933Z",
     "shell.execute_reply.started": "2021-11-05T09:50:41.010576Z"
    },
    "papermill": {
     "duration": 0.038345,
     "end_time": "2021-11-05T10:06:03.726743",
     "exception": false,
     "start_time": "2021-11-05T10:06:03.688398",
     "status": "completed"
    },
    "tags": []
   },
   "outputs": [
    {
     "data": {
      "text/plain": [
       "['abandon',\n",
       " 'abc',\n",
       " 'abc news',\n",
       " 'abduct',\n",
       " 'abe',\n",
       " 'abedin',\n",
       " 'abl',\n",
       " 'abort',\n",
       " 'abroad',\n",
       " 'absolut',\n",
       " 'abstain',\n",
       " 'absurd',\n",
       " 'abus',\n",
       " 'abus new',\n",
       " 'abus new york',\n",
       " 'academi',\n",
       " 'accept',\n",
       " 'access',\n",
       " 'access pipelin',\n",
       " 'access pipelin protest']"
      ]
     },
     "execution_count": 15,
     "metadata": {},
     "output_type": "execute_result"
    }
   ],
   "source": [
    "cv.get_feature_names()[:20]"
   ]
  },
  {
   "cell_type": "code",
   "execution_count": 16,
   "id": "912ae8d1",
   "metadata": {
    "execution": {
     "iopub.execute_input": "2021-11-05T10:06:03.777890Z",
     "iopub.status.busy": "2021-11-05T10:06:03.777154Z",
     "iopub.status.idle": "2021-11-05T10:06:03.782949Z",
     "shell.execute_reply": "2021-11-05T10:06:03.783434Z",
     "shell.execute_reply.started": "2021-11-05T09:50:41.022302Z"
    },
    "papermill": {
     "duration": 0.0329,
     "end_time": "2021-11-05T10:06:03.783622",
     "exception": false,
     "start_time": "2021-11-05T10:06:03.750722",
     "status": "completed"
    },
    "tags": []
   },
   "outputs": [
    {
     "data": {
      "text/plain": [
       "{'analyzer': 'word',\n",
       " 'binary': False,\n",
       " 'decode_error': 'strict',\n",
       " 'dtype': numpy.int64,\n",
       " 'encoding': 'utf-8',\n",
       " 'input': 'content',\n",
       " 'lowercase': True,\n",
       " 'max_df': 1.0,\n",
       " 'max_features': 5000,\n",
       " 'min_df': 1,\n",
       " 'ngram_range': (1, 3),\n",
       " 'preprocessor': None,\n",
       " 'stop_words': None,\n",
       " 'strip_accents': None,\n",
       " 'token_pattern': '(?u)\\\\b\\\\w\\\\w+\\\\b',\n",
       " 'tokenizer': None,\n",
       " 'vocabulary': None}"
      ]
     },
     "execution_count": 16,
     "metadata": {},
     "output_type": "execute_result"
    }
   ],
   "source": [
    "cv.get_params()"
   ]
  },
  {
   "cell_type": "code",
   "execution_count": 17,
   "id": "77679977",
   "metadata": {
    "execution": {
     "iopub.execute_input": "2021-11-05T10:06:03.835749Z",
     "iopub.status.busy": "2021-11-05T10:06:03.835104Z",
     "iopub.status.idle": "2021-11-05T10:06:03.845333Z",
     "shell.execute_reply": "2021-11-05T10:06:03.845822Z",
     "shell.execute_reply.started": "2021-11-05T09:50:41.040518Z"
    },
    "papermill": {
     "duration": 0.037855,
     "end_time": "2021-11-05T10:06:03.846056",
     "exception": false,
     "start_time": "2021-11-05T10:06:03.808201",
     "status": "completed"
    },
    "tags": []
   },
   "outputs": [],
   "source": [
    "count_df = pd.DataFrame(X_train, columns=cv.get_feature_names())"
   ]
  },
  {
   "cell_type": "code",
   "execution_count": 18,
   "id": "48e16861",
   "metadata": {
    "execution": {
     "iopub.execute_input": "2021-11-05T10:06:03.913294Z",
     "iopub.status.busy": "2021-11-05T10:06:03.912597Z",
     "iopub.status.idle": "2021-11-05T10:06:03.915381Z",
     "shell.execute_reply": "2021-11-05T10:06:03.915938Z",
     "shell.execute_reply.started": "2021-11-05T09:50:41.064647Z"
    },
    "papermill": {
     "duration": 0.04574,
     "end_time": "2021-11-05T10:06:03.916157",
     "exception": false,
     "start_time": "2021-11-05T10:06:03.870417",
     "status": "completed"
    },
    "tags": []
   },
   "outputs": [
    {
     "data": {
      "text/html": [
       "<div>\n",
       "<style scoped>\n",
       "    .dataframe tbody tr th:only-of-type {\n",
       "        vertical-align: middle;\n",
       "    }\n",
       "\n",
       "    .dataframe tbody tr th {\n",
       "        vertical-align: top;\n",
       "    }\n",
       "\n",
       "    .dataframe thead th {\n",
       "        text-align: right;\n",
       "    }\n",
       "</style>\n",
       "<table border=\"1\" class=\"dataframe\">\n",
       "  <thead>\n",
       "    <tr style=\"text-align: right;\">\n",
       "      <th></th>\n",
       "      <th>abandon</th>\n",
       "      <th>abc</th>\n",
       "      <th>abc news</th>\n",
       "      <th>abduct</th>\n",
       "      <th>abe</th>\n",
       "      <th>abedin</th>\n",
       "      <th>abl</th>\n",
       "      <th>abort</th>\n",
       "      <th>abroad</th>\n",
       "      <th>absolut</th>\n",
       "      <th>...</th>\n",
       "      <th>zero</th>\n",
       "      <th>zika</th>\n",
       "      <th>zika viru</th>\n",
       "      <th>zionist</th>\n",
       "      <th>zone</th>\n",
       "      <th>zone new</th>\n",
       "      <th>zone new york</th>\n",
       "      <th>zoo</th>\n",
       "      <th>zu</th>\n",
       "      <th>zuckerberg</th>\n",
       "    </tr>\n",
       "  </thead>\n",
       "  <tbody>\n",
       "    <tr>\n",
       "      <th>0</th>\n",
       "      <td>0</td>\n",
       "      <td>0</td>\n",
       "      <td>0</td>\n",
       "      <td>0</td>\n",
       "      <td>0</td>\n",
       "      <td>0</td>\n",
       "      <td>0</td>\n",
       "      <td>0</td>\n",
       "      <td>0</td>\n",
       "      <td>0</td>\n",
       "      <td>...</td>\n",
       "      <td>0</td>\n",
       "      <td>0</td>\n",
       "      <td>0</td>\n",
       "      <td>0</td>\n",
       "      <td>0</td>\n",
       "      <td>0</td>\n",
       "      <td>0</td>\n",
       "      <td>0</td>\n",
       "      <td>0</td>\n",
       "      <td>0</td>\n",
       "    </tr>\n",
       "    <tr>\n",
       "      <th>1</th>\n",
       "      <td>0</td>\n",
       "      <td>0</td>\n",
       "      <td>0</td>\n",
       "      <td>0</td>\n",
       "      <td>0</td>\n",
       "      <td>0</td>\n",
       "      <td>0</td>\n",
       "      <td>0</td>\n",
       "      <td>0</td>\n",
       "      <td>0</td>\n",
       "      <td>...</td>\n",
       "      <td>0</td>\n",
       "      <td>0</td>\n",
       "      <td>0</td>\n",
       "      <td>0</td>\n",
       "      <td>0</td>\n",
       "      <td>0</td>\n",
       "      <td>0</td>\n",
       "      <td>0</td>\n",
       "      <td>0</td>\n",
       "      <td>0</td>\n",
       "    </tr>\n",
       "    <tr>\n",
       "      <th>2</th>\n",
       "      <td>0</td>\n",
       "      <td>0</td>\n",
       "      <td>0</td>\n",
       "      <td>0</td>\n",
       "      <td>0</td>\n",
       "      <td>0</td>\n",
       "      <td>0</td>\n",
       "      <td>0</td>\n",
       "      <td>0</td>\n",
       "      <td>0</td>\n",
       "      <td>...</td>\n",
       "      <td>0</td>\n",
       "      <td>0</td>\n",
       "      <td>0</td>\n",
       "      <td>0</td>\n",
       "      <td>0</td>\n",
       "      <td>0</td>\n",
       "      <td>0</td>\n",
       "      <td>0</td>\n",
       "      <td>0</td>\n",
       "      <td>0</td>\n",
       "    </tr>\n",
       "    <tr>\n",
       "      <th>3</th>\n",
       "      <td>0</td>\n",
       "      <td>0</td>\n",
       "      <td>0</td>\n",
       "      <td>0</td>\n",
       "      <td>0</td>\n",
       "      <td>0</td>\n",
       "      <td>0</td>\n",
       "      <td>0</td>\n",
       "      <td>0</td>\n",
       "      <td>0</td>\n",
       "      <td>...</td>\n",
       "      <td>0</td>\n",
       "      <td>0</td>\n",
       "      <td>0</td>\n",
       "      <td>0</td>\n",
       "      <td>0</td>\n",
       "      <td>0</td>\n",
       "      <td>0</td>\n",
       "      <td>0</td>\n",
       "      <td>0</td>\n",
       "      <td>0</td>\n",
       "    </tr>\n",
       "    <tr>\n",
       "      <th>4</th>\n",
       "      <td>0</td>\n",
       "      <td>0</td>\n",
       "      <td>0</td>\n",
       "      <td>0</td>\n",
       "      <td>0</td>\n",
       "      <td>0</td>\n",
       "      <td>0</td>\n",
       "      <td>0</td>\n",
       "      <td>0</td>\n",
       "      <td>1</td>\n",
       "      <td>...</td>\n",
       "      <td>0</td>\n",
       "      <td>0</td>\n",
       "      <td>0</td>\n",
       "      <td>0</td>\n",
       "      <td>0</td>\n",
       "      <td>0</td>\n",
       "      <td>0</td>\n",
       "      <td>0</td>\n",
       "      <td>0</td>\n",
       "      <td>0</td>\n",
       "    </tr>\n",
       "  </tbody>\n",
       "</table>\n",
       "<p>5 rows × 5000 columns</p>\n",
       "</div>"
      ],
      "text/plain": [
       "   abandon  abc  abc news  abduct  abe  abedin  abl  abort  abroad  absolut  \\\n",
       "0        0    0         0       0    0       0    0      0       0        0   \n",
       "1        0    0         0       0    0       0    0      0       0        0   \n",
       "2        0    0         0       0    0       0    0      0       0        0   \n",
       "3        0    0         0       0    0       0    0      0       0        0   \n",
       "4        0    0         0       0    0       0    0      0       0        1   \n",
       "\n",
       "   ...  zero  zika  zika viru  zionist  zone  zone new  zone new york  zoo  \\\n",
       "0  ...     0     0          0        0     0         0              0    0   \n",
       "1  ...     0     0          0        0     0         0              0    0   \n",
       "2  ...     0     0          0        0     0         0              0    0   \n",
       "3  ...     0     0          0        0     0         0              0    0   \n",
       "4  ...     0     0          0        0     0         0              0    0   \n",
       "\n",
       "   zu  zuckerberg  \n",
       "0   0           0  \n",
       "1   0           0  \n",
       "2   0           0  \n",
       "3   0           0  \n",
       "4   0           0  \n",
       "\n",
       "[5 rows x 5000 columns]"
      ]
     },
     "execution_count": 18,
     "metadata": {},
     "output_type": "execute_result"
    }
   ],
   "source": [
    "count_df.head()"
   ]
  },
  {
   "cell_type": "code",
   "execution_count": 19,
   "id": "63740549",
   "metadata": {
    "execution": {
     "iopub.execute_input": "2021-11-05T10:06:03.968512Z",
     "iopub.status.busy": "2021-11-05T10:06:03.967835Z",
     "iopub.status.idle": "2021-11-05T10:06:03.976388Z",
     "shell.execute_reply": "2021-11-05T10:06:03.976888Z",
     "shell.execute_reply.started": "2021-11-05T09:50:41.093065Z"
    },
    "papermill": {
     "duration": 0.037127,
     "end_time": "2021-11-05T10:06:03.977099",
     "exception": false,
     "start_time": "2021-11-05T10:06:03.939972",
     "status": "completed"
    },
    "tags": []
   },
   "outputs": [],
   "source": [
    "import matplotlib.pyplot as plt\n",
    "\n",
    "def plot_confusion_matrix(cm, classes,\n",
    "                          normalize=False,\n",
    "                          title='Confusion matrix',\n",
    "                          cmap=plt.cm.Blues):\n",
    "    \"\"\"\n",
    "    See full source and example: \n",
    "    http://scikit-learn.org/stable/auto_examples/model_selection/plot_confusion_matrix.html\n",
    "    \n",
    "    This function prints and plots the confusion matrix.\n",
    "    Normalization can be applied by setting `normalize=True`.\n",
    "    \"\"\"\n",
    "    plt.imshow(cm, interpolation='nearest', cmap=cmap)\n",
    "    plt.title(title)\n",
    "    plt.colorbar()\n",
    "    tick_marks = np.arange(len(classes))\n",
    "    plt.xticks(tick_marks, classes, rotation=45)\n",
    "    plt.yticks(tick_marks, classes)\n",
    "\n",
    "    if normalize:\n",
    "        cm = cm.astype('float') / cm.sum(axis=1)[:, np.newaxis]\n",
    "        print(\"Normalized confusion matrix\")\n",
    "    else:\n",
    "        print('Confusion matrix, without normalization')\n",
    "\n",
    "    thresh = cm.max() / 2.\n",
    "    for i, j in itertools.product(range(cm.shape[0]), range(cm.shape[1])):\n",
    "        plt.text(j, i, cm[i, j],\n",
    "                 horizontalalignment=\"center\",\n",
    "                 color=\"white\" if cm[i, j] > thresh else \"black\")\n",
    "\n",
    "    plt.tight_layout()\n",
    "    plt.ylabel('True label')\n",
    "    plt.xlabel('Predicted label')"
   ]
  },
  {
   "cell_type": "markdown",
   "id": "814af549",
   "metadata": {
    "papermill": {
     "duration": 0.023939,
     "end_time": "2021-11-05T10:06:04.025100",
     "exception": false,
     "start_time": "2021-11-05T10:06:04.001161",
     "status": "completed"
    },
    "tags": []
   },
   "source": [
    "# Multinomial NB"
   ]
  },
  {
   "cell_type": "code",
   "execution_count": 20,
   "id": "0cf4331e",
   "metadata": {
    "execution": {
     "iopub.execute_input": "2021-11-05T10:06:04.080827Z",
     "iopub.status.busy": "2021-11-05T10:06:04.080136Z",
     "iopub.status.idle": "2021-11-05T10:06:04.086091Z",
     "shell.execute_reply": "2021-11-05T10:06:04.086606Z",
     "shell.execute_reply.started": "2021-11-05T09:50:41.110253Z"
    },
    "papermill": {
     "duration": 0.037456,
     "end_time": "2021-11-05T10:06:04.086831",
     "exception": false,
     "start_time": "2021-11-05T10:06:04.049375",
     "status": "completed"
    },
    "tags": []
   },
   "outputs": [],
   "source": [
    "#now implement a classification model Multinomial NB\n",
    "from sklearn.naive_bayes import MultinomialNB\n",
    "classifier=MultinomialNB()"
   ]
  },
  {
   "cell_type": "code",
   "execution_count": 21,
   "id": "4f9e7b9b",
   "metadata": {
    "execution": {
     "iopub.execute_input": "2021-11-05T10:06:04.144504Z",
     "iopub.status.busy": "2021-11-05T10:06:04.143428Z",
     "iopub.status.idle": "2021-11-05T10:06:05.264301Z",
     "shell.execute_reply": "2021-11-05T10:06:05.264740Z",
     "shell.execute_reply.started": "2021-11-05T09:50:41.133042Z"
    },
    "papermill": {
     "duration": 1.153223,
     "end_time": "2021-11-05T10:06:05.264956",
     "exception": false,
     "start_time": "2021-11-05T10:06:04.111733",
     "status": "completed"
    },
    "tags": []
   },
   "outputs": [
    {
     "name": "stdout",
     "output_type": "stream",
     "text": [
      "accuracy:   0.902\n",
      "Confusion matrix, without normalization\n"
     ]
    },
    {
     "data": {
      "image/png": "[encoded data removed]",
      "text/plain": [
       "<Figure size 432x288 with 2 Axes>"
      ]
     },
     "metadata": {
      "needs_background": "light"
     },
     "output_type": "display_data"
    }
   ],
   "source": [
    "from sklearn import metrics\n",
    "import numpy as np\n",
    "import itertools\n",
    "\n",
    "classifier.fit(X_train, y_train)\n",
    "pred = classifier.predict(X_test)\n",
    "score = metrics.accuracy_score(y_test, pred)\n",
    "print(\"accuracy:   %0.3f\" % score)\n",
    "cm = metrics.confusion_matrix(y_test, pred)\n",
    "plot_confusion_matrix(cm, classes=['FAKE', 'REAL'])"
   ]
  },
  {
   "cell_type": "markdown",
   "id": "b5055abc",
   "metadata": {
    "papermill": {
     "duration": 0.026543,
     "end_time": "2021-11-05T10:06:05.317454",
     "exception": false,
     "start_time": "2021-11-05T10:06:05.290911",
     "status": "completed"
    },
    "tags": []
   },
   "source": [
    "# Passive Aggressive Classiifier"
   ]
  },
  {
   "cell_type": "code",
   "execution_count": 22,
   "id": "9c93ca4c",
   "metadata": {
    "execution": {
     "iopub.execute_input": "2021-11-05T10:06:05.372824Z",
     "iopub.status.busy": "2021-11-05T10:06:05.371749Z",
     "iopub.status.idle": "2021-11-05T10:06:13.241913Z",
     "shell.execute_reply": "2021-11-05T10:06:13.242393Z",
     "shell.execute_reply.started": "2021-11-05T09:50:42.091916Z"
    },
    "papermill": {
     "duration": 7.899396,
     "end_time": "2021-11-05T10:06:13.242591",
     "exception": false,
     "start_time": "2021-11-05T10:06:05.343195",
     "status": "completed"
    },
    "tags": []
   },
   "outputs": [
    {
     "name": "stdout",
     "output_type": "stream",
     "text": [
      "accuracy:   0.920\n",
      "Confusion matrix, without normalization\n"
     ]
    },
    {
     "data": {
      "image/png": "[encoded data removed]",
      "text/plain": [
       "<Figure size 432x288 with 2 Axes>"
      ]
     },
     "metadata": {
      "needs_background": "light"
     },
     "output_type": "display_data"
    }
   ],
   "source": [
    "#lets implemet another classification algorithm- Passive Aggressive Classifier\n",
    "from sklearn.linear_model import PassiveAggressiveClassifier\n",
    "linear_clf = PassiveAggressiveClassifier(max_iter=50)\n",
    "\n",
    "linear_clf.fit(X_train, y_train)\n",
    "pred = linear_clf.predict(X_test)\n",
    "score = metrics.accuracy_score(y_test, pred)\n",
    "print(\"accuracy:   %0.3f\" % score)\n",
    "cm = metrics.confusion_matrix(y_test, pred)\n",
    "plot_confusion_matrix(cm, classes=['FAKE Data', 'REAL Data'])"
   ]
  },
  {
   "cell_type": "markdown",
   "id": "77652779",
   "metadata": {
    "papermill": {
     "duration": 0.025431,
     "end_time": "2021-11-05T10:06:13.294002",
     "exception": false,
     "start_time": "2021-11-05T10:06:13.268571",
     "status": "completed"
    },
    "tags": []
   },
   "source": [
    "# Multinomial NB with manipulated h.p."
   ]
  },
  {
   "cell_type": "code",
   "execution_count": 23,
   "id": "cde4ac01",
   "metadata": {
    "execution": {
     "iopub.execute_input": "2021-11-05T10:06:13.349404Z",
     "iopub.status.busy": "2021-11-05T10:06:13.348679Z",
     "iopub.status.idle": "2021-11-05T10:06:13.357195Z",
     "shell.execute_reply": "2021-11-05T10:06:13.357761Z",
     "shell.execute_reply.started": "2021-11-05T09:50:48.374835Z"
    },
    "papermill": {
     "duration": 0.038319,
     "end_time": "2021-11-05T10:06:13.358009",
     "exception": false,
     "start_time": "2021-11-05T10:06:13.319690",
     "status": "completed"
    },
    "tags": []
   },
   "outputs": [],
   "source": [
    "feature_names=cv.get_feature_names()"
   ]
  },
  {
   "cell_type": "code",
   "execution_count": 24,
   "id": "1f70e98b",
   "metadata": {
    "execution": {
     "iopub.execute_input": "2021-11-05T10:06:13.418704Z",
     "iopub.status.busy": "2021-11-05T10:06:13.418038Z",
     "iopub.status.idle": "2021-11-05T10:06:13.422885Z",
     "shell.execute_reply": "2021-11-05T10:06:13.422204Z",
     "shell.execute_reply.started": "2021-11-05T09:50:48.386065Z"
    },
    "papermill": {
     "duration": 0.037857,
     "end_time": "2021-11-05T10:06:13.423043",
     "exception": false,
     "start_time": "2021-11-05T10:06:13.385186",
     "status": "completed"
    },
    "tags": []
   },
   "outputs": [
    {
     "data": {
      "text/plain": [
       "array([ -9.09151179,  -8.62150816,  -9.09151179, ..., -10.7009497 ,\n",
       "        -8.90919023,  -9.31465534])"
      ]
     },
     "execution_count": 24,
     "metadata": {},
     "output_type": "execute_result"
    }
   ],
   "source": [
    "classifier.coef_[0]"
   ]
  },
  {
   "cell_type": "code",
   "execution_count": 25,
   "id": "6d40cf4d",
   "metadata": {
    "execution": {
     "iopub.execute_input": "2021-11-05T10:06:13.487458Z",
     "iopub.status.busy": "2021-11-05T10:06:13.486701Z",
     "iopub.status.idle": "2021-11-05T10:06:13.495013Z",
     "shell.execute_reply": "2021-11-05T10:06:13.494458Z",
     "shell.execute_reply.started": "2021-11-05T09:50:48.403636Z"
    },
    "papermill": {
     "duration": 0.045228,
     "end_time": "2021-11-05T10:06:13.495214",
     "exception": false,
     "start_time": "2021-11-05T10:06:13.449986",
     "status": "completed"
    },
    "tags": []
   },
   "outputs": [
    {
     "data": {
      "text/plain": [
       "[(-4.011350433181747, 'trump'),\n",
       " (-4.2990325056335275, 'hillari'),\n",
       " (-4.407530423514232, 'clinton'),\n",
       " (-4.91098953146346, 'elect'),\n",
       " (-5.187520956195731, 'new'),\n",
       " (-5.2456285870030115, 'comment'),\n",
       " (-5.284849300156293, 'video'),\n",
       " (-5.3976447943016375, 'war'),\n",
       " (-5.407644877636221, 'us'),\n",
       " (-5.422835043130196, 'hillari clinton'),\n",
       " (-5.427950143796966, 'fbi'),\n",
       " (-5.491463549519292, 'vote'),\n",
       " (-5.576985722957454, 'email'),\n",
       " (-5.5889619140041695, 'world'),\n",
       " (-5.6447038970124055, 'obama'),\n",
       " (-5.745122644759452, 'donald'),\n",
       " (-5.773696017203508, 'donald trump'),\n",
       " (-5.795674923922284, 'russia'),\n",
       " (-5.856762615902122, 'day'),\n",
       " (-5.872635965058412, 'america')]"
      ]
     },
     "execution_count": 25,
     "metadata": {},
     "output_type": "execute_result"
    }
   ],
   "source": [
    "### Most real\n",
    "sorted(zip(classifier.coef_[0], feature_names), reverse=True)[:20]"
   ]
  },
  {
   "cell_type": "markdown",
   "id": "f559a6ca",
   "metadata": {
    "papermill": {
     "duration": 0.028748,
     "end_time": "2021-11-05T10:06:13.551413",
     "exception": false,
     "start_time": "2021-11-05T10:06:13.522665",
     "status": "completed"
    },
    "tags": []
   },
   "source": [
    "since our label tells fakeness hence most negative coeff will be most opposite i.e. most real"
   ]
  },
  {
   "cell_type": "code",
   "execution_count": 26,
   "id": "67eb6c0b",
   "metadata": {
    "execution": {
     "iopub.execute_input": "2021-11-05T10:06:13.612587Z",
     "iopub.status.busy": "2021-11-05T10:06:13.611767Z",
     "iopub.status.idle": "2021-11-05T10:06:14.310745Z",
     "shell.execute_reply": "2021-11-05T10:06:14.311460Z",
     "shell.execute_reply.started": "2021-11-05T09:50:48.423284Z"
    },
    "papermill": {
     "duration": 0.731068,
     "end_time": "2021-11-05T10:06:14.311673",
     "exception": false,
     "start_time": "2021-11-05T10:06:13.580605",
     "status": "completed"
    },
    "tags": []
   },
   "outputs": [],
   "source": [
    "import pandas as pd\n",
    "test=pd.read_csv(\"../input/fake-news/test.csv\")\n"
   ]
  },
  {
   "cell_type": "code",
   "execution_count": 27,
   "id": "a713f2bb",
   "metadata": {
    "execution": {
     "iopub.execute_input": "2021-11-05T10:06:14.375799Z",
     "iopub.status.busy": "2021-11-05T10:06:14.374663Z",
     "iopub.status.idle": "2021-11-05T10:06:23.396827Z",
     "shell.execute_reply": "2021-11-05T10:06:23.396223Z",
     "shell.execute_reply.started": "2021-11-05T10:02:58.879252Z"
    },
    "papermill": {
     "duration": 9.058844,
     "end_time": "2021-11-05T10:06:23.397018",
     "exception": false,
     "start_time": "2021-11-05T10:06:14.338174",
     "status": "completed"
    },
    "tags": []
   },
   "outputs": [],
   "source": [
    "\n",
    "#stemmatize news titles\n",
    "import numpy as np\n",
    "from nltk.corpus import stopwords\n",
    "from nltk.stem.porter import PorterStemmer\n",
    "import re\n",
    "ps = PorterStemmer()\n",
    "corpus = []\n",
    "for i in range(0, len(test)):\n",
    "    \n",
    "    if(pd.isnull(test[\"title\"][i])):\n",
    "        review=\"\"\n",
    "    else:\n",
    "        review = re.sub('[^a-zA-Z]', ' ',test['title'][i])\n",
    "        review = review.lower()\n",
    "        review = review.split()\n",
    "\n",
    "        review = [ps.stem(word) for word in review if not word in stopwords.words('english')]\n",
    "    review = ' '.join(review)\n",
    "    corpus.append(review)"
   ]
  },
  {
   "cell_type": "code",
   "execution_count": 28,
   "id": "6a6358c7",
   "metadata": {
    "execution": {
     "iopub.execute_input": "2021-11-05T10:06:23.528400Z",
     "iopub.status.busy": "2021-11-05T10:06:23.527710Z",
     "iopub.status.idle": "2021-11-05T10:06:24.095387Z",
     "shell.execute_reply": "2021-11-05T10:06:24.096365Z",
     "shell.execute_reply.started": "2021-11-05T10:03:29.842220Z"
    },
    "papermill": {
     "duration": 0.598798,
     "end_time": "2021-11-05T10:06:24.096690",
     "exception": false,
     "start_time": "2021-11-05T10:06:23.497892",
     "status": "completed"
    },
    "tags": []
   },
   "outputs": [],
   "source": [
    "from sklearn.feature_extraction.text import CountVectorizer\n",
    "cv = CountVectorizer(max_features=5000,ngram_range=(1,3))\n",
    "X_test = cv.fit_transform(corpus).toarray()\n",
    "pred=linear_clf.predict(X_test)"
   ]
  },
  {
   "cell_type": "code",
   "execution_count": 29,
   "id": "857187df",
   "metadata": {
    "execution": {
     "iopub.execute_input": "2021-11-05T10:06:24.216279Z",
     "iopub.status.busy": "2021-11-05T10:06:24.215586Z",
     "iopub.status.idle": "2021-11-05T10:06:24.255911Z",
     "shell.execute_reply": "2021-11-05T10:06:24.256461Z",
     "shell.execute_reply.started": "2021-11-05T10:03:31.522760Z"
    },
    "papermill": {
     "duration": 0.100976,
     "end_time": "2021-11-05T10:06:24.256661",
     "exception": false,
     "start_time": "2021-11-05T10:06:24.155685",
     "status": "completed"
    },
    "tags": []
   },
   "outputs": [],
   "source": [
    "import csv\n",
    "with open(\"./output.csv\", \"w\", newline=\"\") as file:\n",
    "    writer=csv.writer(file)\n",
    "    writer.writerow([\"id\", \"label\"])\n",
    "    for i in range(len(test)):\n",
    "        writer.writerow([test[\"id\"][i], pred[i]])\n",
    "file.close()\n",
    "    "
   ]
  },
  {
   "cell_type": "code",
   "execution_count": 30,
   "id": "6b5d1ea9",
   "metadata": {
    "execution": {
     "iopub.execute_input": "2021-11-05T10:06:24.314018Z",
     "iopub.status.busy": "2021-11-05T10:06:24.313302Z",
     "iopub.status.idle": "2021-11-05T10:06:24.323022Z",
     "shell.execute_reply": "2021-11-05T10:06:24.323485Z",
     "shell.execute_reply.started": "2021-11-05T09:50:49.220558Z"
    },
    "papermill": {
     "duration": 0.040588,
     "end_time": "2021-11-05T10:06:24.323695",
     "exception": false,
     "start_time": "2021-11-05T10:06:24.283107",
     "status": "completed"
    },
    "tags": []
   },
   "outputs": [
    {
     "data": {
      "text/html": [
       "<div>\n",
       "<style scoped>\n",
       "    .dataframe tbody tr th:only-of-type {\n",
       "        vertical-align: middle;\n",
       "    }\n",
       "\n",
       "    .dataframe tbody tr th {\n",
       "        vertical-align: top;\n",
       "    }\n",
       "\n",
       "    .dataframe thead th {\n",
       "        text-align: right;\n",
       "    }\n",
       "</style>\n",
       "<table border=\"1\" class=\"dataframe\">\n",
       "  <thead>\n",
       "    <tr style=\"text-align: right;\">\n",
       "      <th></th>\n",
       "      <th>id</th>\n",
       "      <th>title</th>\n",
       "      <th>author</th>\n",
       "      <th>text</th>\n",
       "    </tr>\n",
       "  </thead>\n",
       "  <tbody>\n",
       "    <tr>\n",
       "      <th>0</th>\n",
       "      <td>20800</td>\n",
       "      <td>Specter of Trump Loosens Tongues, if Not Purse...</td>\n",
       "      <td>David Streitfeld</td>\n",
       "      <td>PALO ALTO, Calif.  —   After years of scorning...</td>\n",
       "    </tr>\n",
       "    <tr>\n",
       "      <th>1</th>\n",
       "      <td>20801</td>\n",
       "      <td>Russian warships ready to strike terrorists ne...</td>\n",
       "      <td>NaN</td>\n",
       "      <td>Russian warships ready to strike terrorists ne...</td>\n",
       "    </tr>\n",
       "    <tr>\n",
       "      <th>2</th>\n",
       "      <td>20802</td>\n",
       "      <td>#NoDAPL: Native American Leaders Vow to Stay A...</td>\n",
       "      <td>Common Dreams</td>\n",
       "      <td>Videos #NoDAPL: Native American Leaders Vow to...</td>\n",
       "    </tr>\n",
       "    <tr>\n",
       "      <th>3</th>\n",
       "      <td>20803</td>\n",
       "      <td>Tim Tebow Will Attempt Another Comeback, This ...</td>\n",
       "      <td>Daniel Victor</td>\n",
       "      <td>If at first you don’t succeed, try a different...</td>\n",
       "    </tr>\n",
       "    <tr>\n",
       "      <th>4</th>\n",
       "      <td>20804</td>\n",
       "      <td>Keiser Report: Meme Wars (E995)</td>\n",
       "      <td>Truth Broadcast Network</td>\n",
       "      <td>42 mins ago 1 Views 0 Comments 0 Likes 'For th...</td>\n",
       "    </tr>\n",
       "  </tbody>\n",
       "</table>\n",
       "</div>"
      ],
      "text/plain": [
       "      id                                              title  \\\n",
       "0  20800  Specter of Trump Loosens Tongues, if Not Purse...   \n",
       "1  20801  Russian warships ready to strike terrorists ne...   \n",
       "2  20802  #NoDAPL: Native American Leaders Vow to Stay A...   \n",
       "3  20803  Tim Tebow Will Attempt Another Comeback, This ...   \n",
       "4  20804                    Keiser Report: Meme Wars (E995)   \n",
       "\n",
       "                    author                                               text  \n",
       "0         David Streitfeld  PALO ALTO, Calif.  —   After years of scorning...  \n",
       "1                      NaN  Russian warships ready to strike terrorists ne...  \n",
       "2            Common Dreams  Videos #NoDAPL: Native American Leaders Vow to...  \n",
       "3            Daniel Victor  If at first you don’t succeed, try a different...  \n",
       "4  Truth Broadcast Network  42 mins ago 1 Views 0 Comments 0 Likes 'For th...  "
      ]
     },
     "execution_count": 30,
     "metadata": {},
     "output_type": "execute_result"
    }
   ],
   "source": [
    "test.head()"
   ]
  },
  {
   "cell_type": "code",
   "execution_count": null,
   "id": "a7e27ddb",
   "metadata": {
    "papermill": {
     "duration": 0.027679,
     "end_time": "2021-11-05T10:06:24.378497",
     "exception": false,
     "start_time": "2021-11-05T10:06:24.350818",
     "status": "completed"
    },
    "tags": []
   },
   "outputs": [],
   "source": []
  }
 ],
 "metadata": {
  "kernelspec": {
   "display_name": "Python 3",
   "language": "python",
   "name": "python3"
  },
  "language_info": {
   "codemirror_mode": {
    "name": "ipython",
    "version": 3
   },
   "file_extension": ".py",
   "mimetype": "text/x-python",
   "name": "python",
   "nbconvert_exporter": "python",
   "pygments_lexer": "ipython3",
   "version": "3.7.10"
  },
  "papermill": {
   "default_parameters": {},
   "duration": 72.028136,
   "end_time": "2021-11-05T10:06:25.519697",
   "environment_variables": {},
   "exception": null,
   "input_path": "__notebook__.ipynb",
   "output_path": "__notebook__.ipynb",
   "parameters": {},
   "start_time": "2021-11-05T10:05:13.491561",
   "version": "2.3.3"
  }
 },
 "nbformat": 4,
 "nbformat_minor": 5
}
